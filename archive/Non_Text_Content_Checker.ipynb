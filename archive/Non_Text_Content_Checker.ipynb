{
 "cells": [
  {
   "cell_type": "code",
   "execution_count": null,
   "id": "6a9a070d-ca9c-47ea-af82-3472d41fb6ef",
   "metadata": {},
   "outputs": [],
   "source": [
    "from bs4 import BeautifulSoup\n",
    "\n",
    "def identify_non_text_content(html):\n",
    "    soup = BeautifulSoup(html, 'html.parser')\n",
    "    non_text_elements = []\n",
    "\n",
    "    # Find elements that typically contain non-text content\n",
    "    element_types = ['img', 'svg', 'video', 'audio', 'object', 'embed', 'canvas']\n",
    "    for element_type in element_types:\n",
    "        elements = soup.find_all(element_type)\n",
    "        for element in elements:\n",
    "            element_info = {\n",
    "                'tag': element.name,\n",
    "                'src': element.get('src'),\n",
    "                'alt': element.get('alt'),\n",
    "                # Extract other relevant attributes as needed\n",
    "            }\n",
    "            non_text_elements.append(element_info)\n",
    "\n",
    "    return non_text_elements"
   ]
  }
 ],
 "metadata": {
  "kernelspec": {
   "display_name": "Python 3 (ipykernel)",
   "language": "python",
   "name": "python3"
  },
  "language_info": {
   "codemirror_mode": {
    "name": "ipython",
    "version": 3
   },
   "file_extension": ".py",
   "mimetype": "text/x-python",
   "name": "python",
   "nbconvert_exporter": "python",
   "pygments_lexer": "ipython3",
   "version": "3.8.20"
  }
 },
 "nbformat": 4,
 "nbformat_minor": 5
}
