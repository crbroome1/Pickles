{
 "cells": [
  {
   "cell_type": "code",
   "execution_count": null,
   "id": "da208e85-6edf-4c59-b12b-fd9dc86bbbf0",
   "metadata": {},
   "outputs": [],
   "source": [
    "# config.ipynb\n",
    "\n",
    "# Configuration for Web Accessibility Audit\n",
    "\n",
    "# Website to be audited\n",
    "url_to_check = \"https://www.sse.com\"\n",
    "\n",
    "# Browser for testing\n",
    "browser_choice = \"chrome\"  # Options: 'chrome', 'firefox', 'edge'\n",
    "\n",
    "# Reports directory\n",
    "REPORTS_DIR = Path(\"accessibility_reports\")\n",
    "REPORTS_DIR.mkdir(exist_ok=True)\n",
    "\n",
    "# Optional additional configurations can be added here"
   ]
  }
 ],
 "metadata": {
  "kernelspec": {
   "display_name": "Python 3 (ipykernel)",
   "language": "python",
   "name": "python3"
  },
  "language_info": {
   "codemirror_mode": {
    "name": "ipython",
    "version": 3
   },
   "file_extension": ".py",
   "mimetype": "text/x-python",
   "name": "python",
   "nbconvert_exporter": "python",
   "pygments_lexer": "ipython3",
   "version": "3.8.20"
  }
 },
 "nbformat": 4,
 "nbformat_minor": 5
}
